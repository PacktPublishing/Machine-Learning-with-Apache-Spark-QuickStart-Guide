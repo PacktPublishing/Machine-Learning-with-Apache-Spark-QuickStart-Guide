{
 "cells": [
  {
   "cell_type": "code",
   "execution_count": 1,
   "metadata": {},
   "outputs": [],
   "source": [
    "# (1) Import the required Python dependencies\n",
    "%matplotlib inline\n",
    "import matplotlib.pyplot as plt\n",
    "import pandas as pd\n",
    "import findspark\n",
    "findspark.init()\n",
    "from pyspark import SparkContext, SparkConf\n",
    "from pyspark.sql import SQLContext\n",
    "from pyspark.sql.functions import col\n",
    "from pyspark.ml.feature import VectorAssembler\n",
    "from pyspark.ml.feature import StringIndexer\n",
    "from pyspark.ml.classification import LogisticRegression\n",
    "from pyspark.ml.evaluation import BinaryClassificationEvaluator\n",
    "from pyspark.mllib.evaluation import MulticlassMetrics"
   ]
  },
  {
   "cell_type": "code",
   "execution_count": 2,
   "metadata": {},
   "outputs": [],
   "source": [
    "# (2) Instantiate a Spark Context\n",
    "conf = SparkConf().setMaster(\"spark://192.168.56.10:7077\").setAppName(\"Logistic Regression - Breast Cancer\")\n",
    "sc = SparkContext(conf=conf)\n",
    "sqlContext = SQLContext(sc)"
   ]
  },
  {
   "cell_type": "code",
   "execution_count": 3,
   "metadata": {},
   "outputs": [
    {
     "name": "stdout",
     "output_type": "stream",
     "text": [
      "+---+-----------+-------+-------+-----------+-------+-----------+--------+--------+--------------+-----+\n",
      "|Age|        BMI|Glucose|Insulin|       HOMA| Leptin|Adiponectin|Resistin|   MCP_1|Classification|label|\n",
      "+---+-----------+-------+-------+-----------+-------+-----------+--------+--------+--------------+-----+\n",
      "| 48|       23.5|     70|  2.707|0.467408667| 8.8071|     9.7024| 7.99585| 417.114|             1|  1.0|\n",
      "| 83|20.69049454|     92|  3.115|0.706897333| 8.8438|   5.429285| 4.06405| 468.786|             1|  1.0|\n",
      "| 82|23.12467037|     91|  4.498|1.009651067|17.9393|   22.43204| 9.27715| 554.697|             1|  1.0|\n",
      "| 68|21.36752137|     77|  3.226|0.612724933| 9.8827|    7.16956|  12.766|  928.22|             1|  1.0|\n",
      "| 86|21.11111111|     92|  3.549|  0.8053864| 6.6994|    4.81924|10.57635|  773.92|             1|  1.0|\n",
      "| 49|22.85445769|     92|  3.226|0.732086933| 6.8317|   13.67975| 10.3176|  530.41|             1|  1.0|\n",
      "| 89|       22.7|     77|   4.69|0.890787333|  6.964|   5.589865| 12.9361|1256.083|             1|  1.0|\n",
      "| 76|       23.8|    118|   6.47|1.883201333|  4.311|   13.25132|  5.1042| 280.694|             1|  1.0|\n",
      "| 73|       22.0|     97|   3.35|0.801543333|   4.47|  10.358725| 6.28445| 136.855|             1|  1.0|\n",
      "| 75|       23.0|     83|  4.952|1.013839467| 17.127|   11.57899|  7.0913| 318.302|             1|  1.0|\n",
      "+---+-----------+-------+-------+-----------+-------+-----------+--------+--------+--------------+-----+\n",
      "only showing top 10 rows\n",
      "\n"
     ]
    }
   ],
   "source": [
    "# (3) Load the Breast Cancer dataset (data/breast-cancer-data/dataR2.csv) into a Spark DataFrame\n",
    "breast_cancer_df = sqlContext.read.format('com.databricks.spark.csv').options(header = 'true', inferschema = 'true').load('/data/workspaces/jillur.quddus/jupyter/notebooks/Machine-Learning-with-Apache-Spark-QuickStart-Guide/chapter04/data/breast-cancer-data/dataR2.csv')\n",
    "breast_cancer_df = breast_cancer_df.withColumnRenamed('MCP.1', 'MCP_1')\n",
    "indexer = StringIndexer(inputCol = \"Classification\", outputCol = \"label\").fit(breast_cancer_df)\n",
    "breast_cancer_df = indexer.transform(breast_cancer_df)\n",
    "breast_cancer_df.show(10)"
   ]
  },
  {
   "cell_type": "code",
   "execution_count": 4,
   "metadata": {},
   "outputs": [
    {
     "data": {
      "text/html": [
       "<div>\n",
       "<style scoped>\n",
       "    .dataframe tbody tr th:only-of-type {\n",
       "        vertical-align: middle;\n",
       "    }\n",
       "\n",
       "    .dataframe tbody tr th {\n",
       "        vertical-align: top;\n",
       "    }\n",
       "\n",
       "    .dataframe thead th {\n",
       "        text-align: right;\n",
       "    }\n",
       "</style>\n",
       "<table border=\"1\" class=\"dataframe\">\n",
       "  <thead>\n",
       "    <tr style=\"text-align: right;\">\n",
       "      <th></th>\n",
       "      <th>0</th>\n",
       "      <th>1</th>\n",
       "      <th>2</th>\n",
       "      <th>3</th>\n",
       "      <th>4</th>\n",
       "    </tr>\n",
       "  </thead>\n",
       "  <tbody>\n",
       "    <tr>\n",
       "      <th>summary</th>\n",
       "      <td>count</td>\n",
       "      <td>mean</td>\n",
       "      <td>stddev</td>\n",
       "      <td>min</td>\n",
       "      <td>max</td>\n",
       "    </tr>\n",
       "    <tr>\n",
       "      <th>Age</th>\n",
       "      <td>116</td>\n",
       "      <td>57.30172413793103</td>\n",
       "      <td>16.112765572452282</td>\n",
       "      <td>24</td>\n",
       "      <td>89</td>\n",
       "    </tr>\n",
       "    <tr>\n",
       "      <th>BMI</th>\n",
       "      <td>116</td>\n",
       "      <td>27.582110827413807</td>\n",
       "      <td>5.020135768568436</td>\n",
       "      <td>18.37</td>\n",
       "      <td>38.57875854</td>\n",
       "    </tr>\n",
       "    <tr>\n",
       "      <th>Glucose</th>\n",
       "      <td>116</td>\n",
       "      <td>97.79310344827586</td>\n",
       "      <td>22.525161676350454</td>\n",
       "      <td>60</td>\n",
       "      <td>201</td>\n",
       "    </tr>\n",
       "    <tr>\n",
       "      <th>Insulin</th>\n",
       "      <td>116</td>\n",
       "      <td>10.012086206896548</td>\n",
       "      <td>10.067767636993997</td>\n",
       "      <td>2.432</td>\n",
       "      <td>58.46</td>\n",
       "    </tr>\n",
       "    <tr>\n",
       "      <th>HOMA</th>\n",
       "      <td>116</td>\n",
       "      <td>2.6949875643965515</td>\n",
       "      <td>3.6420431918896914</td>\n",
       "      <td>0.467408667</td>\n",
       "      <td>25.05034187</td>\n",
       "    </tr>\n",
       "    <tr>\n",
       "      <th>Leptin</th>\n",
       "      <td>116</td>\n",
       "      <td>26.61508017241379</td>\n",
       "      <td>19.18329407226946</td>\n",
       "      <td>4.311</td>\n",
       "      <td>90.28</td>\n",
       "    </tr>\n",
       "    <tr>\n",
       "      <th>Adiponectin</th>\n",
       "      <td>116</td>\n",
       "      <td>10.180873965517243</td>\n",
       "      <td>6.843341448787964</td>\n",
       "      <td>1.65602</td>\n",
       "      <td>38.04</td>\n",
       "    </tr>\n",
       "    <tr>\n",
       "      <th>Resistin</th>\n",
       "      <td>116</td>\n",
       "      <td>14.725965862068964</td>\n",
       "      <td>12.39064567765953</td>\n",
       "      <td>3.21</td>\n",
       "      <td>82.1</td>\n",
       "    </tr>\n",
       "    <tr>\n",
       "      <th>MCP_1</th>\n",
       "      <td>116</td>\n",
       "      <td>534.6470000000003</td>\n",
       "      <td>345.91266325599037</td>\n",
       "      <td>45.843</td>\n",
       "      <td>1698.44</td>\n",
       "    </tr>\n",
       "    <tr>\n",
       "      <th>Classification</th>\n",
       "      <td>116</td>\n",
       "      <td>1.5517241379310345</td>\n",
       "      <td>0.499474986729882</td>\n",
       "      <td>1</td>\n",
       "      <td>2</td>\n",
       "    </tr>\n",
       "    <tr>\n",
       "      <th>label</th>\n",
       "      <td>116</td>\n",
       "      <td>0.4482758620689655</td>\n",
       "      <td>0.49947498672988183</td>\n",
       "      <td>0.0</td>\n",
       "      <td>1.0</td>\n",
       "    </tr>\n",
       "  </tbody>\n",
       "</table>\n",
       "</div>"
      ],
      "text/plain": [
       "                    0                   1                    2            3  \\\n",
       "summary         count                mean               stddev          min   \n",
       "Age               116   57.30172413793103   16.112765572452282           24   \n",
       "BMI               116  27.582110827413807    5.020135768568436        18.37   \n",
       "Glucose           116   97.79310344827586   22.525161676350454           60   \n",
       "Insulin           116  10.012086206896548   10.067767636993997        2.432   \n",
       "HOMA              116  2.6949875643965515   3.6420431918896914  0.467408667   \n",
       "Leptin            116   26.61508017241379    19.18329407226946        4.311   \n",
       "Adiponectin       116  10.180873965517243    6.843341448787964      1.65602   \n",
       "Resistin          116  14.725965862068964    12.39064567765953         3.21   \n",
       "MCP_1             116   534.6470000000003   345.91266325599037       45.843   \n",
       "Classification    116  1.5517241379310345    0.499474986729882            1   \n",
       "label             116  0.4482758620689655  0.49947498672988183          0.0   \n",
       "\n",
       "                          4  \n",
       "summary                 max  \n",
       "Age                      89  \n",
       "BMI             38.57875854  \n",
       "Glucose                 201  \n",
       "Insulin               58.46  \n",
       "HOMA            25.05034187  \n",
       "Leptin                90.28  \n",
       "Adiponectin           38.04  \n",
       "Resistin               82.1  \n",
       "MCP_1               1698.44  \n",
       "Classification            2  \n",
       "label                   1.0  "
      ]
     },
     "execution_count": 4,
     "metadata": {},
     "output_type": "execute_result"
    }
   ],
   "source": [
    "# (4) Calculate standard statistical descriptive analytics on the raw Breast Cancer Spark DataFrame\n",
    "breast_cancer_df.describe().toPandas().transpose()"
   ]
  },
  {
   "cell_type": "code",
   "execution_count": 5,
   "metadata": {},
   "outputs": [
    {
     "data": {
      "text/plain": [
       "[Row(features=DenseVector([48.0, 23.5, 70.0, 2.707, 0.4674, 8.8071, 9.7024, 7.9958, 417.114]), label=1.0),\n",
       " Row(features=DenseVector([83.0, 20.6905, 92.0, 3.115, 0.7069, 8.8438, 5.4293, 4.064, 468.786]), label=1.0),\n",
       " Row(features=DenseVector([82.0, 23.1247, 91.0, 4.498, 1.0097, 17.9393, 22.432, 9.2772, 554.697]), label=1.0),\n",
       " Row(features=DenseVector([68.0, 21.3675, 77.0, 3.226, 0.6127, 9.8827, 7.1696, 12.766, 928.22]), label=1.0),\n",
       " Row(features=DenseVector([86.0, 21.1111, 92.0, 3.549, 0.8054, 6.6994, 4.8192, 10.5764, 773.92]), label=1.0),\n",
       " Row(features=DenseVector([49.0, 22.8545, 92.0, 3.226, 0.7321, 6.8317, 13.6798, 10.3176, 530.41]), label=1.0),\n",
       " Row(features=DenseVector([89.0, 22.7, 77.0, 4.69, 0.8908, 6.964, 5.5899, 12.9361, 1256.083]), label=1.0),\n",
       " Row(features=DenseVector([76.0, 23.8, 118.0, 6.47, 1.8832, 4.311, 13.2513, 5.1042, 280.694]), label=1.0),\n",
       " Row(features=DenseVector([73.0, 22.0, 97.0, 3.35, 0.8015, 4.47, 10.3587, 6.2844, 136.855]), label=1.0),\n",
       " Row(features=DenseVector([75.0, 23.0, 83.0, 4.952, 1.0138, 17.127, 11.579, 7.0913, 318.302]), label=1.0)]"
      ]
     },
     "execution_count": 5,
     "metadata": {},
     "output_type": "execute_result"
    }
   ],
   "source": [
    "# (5) Generate Input Feature Vectors from the Raw Spark DataFrame\n",
    "feature_columns = ['Age', 'BMI', 'Glucose', 'Insulin', 'HOMA', 'Leptin', 'Adiponectin', 'Resistin', 'MCP_1']\n",
    "label_column = 'label'\n",
    "vector_assembler = VectorAssembler(inputCols = feature_columns, outputCol = 'features')\n",
    "breast_cancer_features_df = vector_assembler.transform(breast_cancer_df).select(['features', label_column])\n",
    "breast_cancer_features_df.head(10)"
   ]
  },
  {
   "cell_type": "code",
   "execution_count": 6,
   "metadata": {},
   "outputs": [
    {
     "data": {
      "text/plain": [
       "(88, 28)"
      ]
     },
     "execution_count": 6,
     "metadata": {},
     "output_type": "execute_result"
    }
   ],
   "source": [
    "# (6) Split the Raw DataFrame into a Training DataFrame and a Test DataFrame\n",
    "train_df, test_df = breast_cancer_features_df.randomSplit([0.75, 0.25], seed=12345)\n",
    "train_df.count(), test_df.count()"
   ]
  },
  {
   "cell_type": "code",
   "execution_count": 7,
   "metadata": {},
   "outputs": [],
   "source": [
    "# (7) Train a Logistic Regression Model on the Training DataFrame\n",
    "logistic_regression = LogisticRegression(featuresCol = 'features', labelCol = label_column)\n",
    "logistic_regression_model = logistic_regression.fit(train_df)"
   ]
  },
  {
   "cell_type": "code",
   "execution_count": 8,
   "metadata": {},
   "outputs": [
    {
     "name": "stdout",
     "output_type": "stream",
     "text": [
      "Model Coefficients: DenseMatrix([[ 0.02184207,  0.18577389, -0.06424576, -0.04087913, -0.08379125,\n",
      "              -0.00232528,  0.03691593, -0.04885413, -0.00139399]])\n",
      "Intercept: [1.1468553429931334]\n"
     ]
    }
   ],
   "source": [
    "# (8) Output Logistic Regression Model Summary Statistics to evaluate the Training Model\n",
    "print(\"Model Coefficients: \" + str(logistic_regression_model.coefficientMatrix))\n",
    "print(\"Intercept: \" + str(logistic_regression_model.interceptVector))"
   ]
  },
  {
   "cell_type": "code",
   "execution_count": 9,
   "metadata": {},
   "outputs": [
    {
     "name": "stdout",
     "output_type": "stream",
     "text": [
      "TEST DATASET PREDICTIONS AGAINST ACTUAL LABEL: \n",
      "+--------------------+--------------------+----------+-----+--------------------+\n",
      "|         probability|       rawPrediction|prediction|label|            features|\n",
      "+--------------------+--------------------+----------+-----+--------------------+\n",
      "|[0.57444849932209...|[0.30002447256258...|       0.0|  1.0|[29.0,32.27078777...|\n",
      "|[0.78779755163191...|[1.31170037854262...|       0.0|  0.0|[34.0,24.24242424...|\n",
      "|[0.24683301696007...|[-1.1155748969299...|       1.0|  1.0|[34.0,31.97501487...|\n",
      "|[0.74578583764889...|[1.07626140746616...|       0.0|  0.0|[40.0,27.63605442...|\n",
      "|[0.99251483391484...|[4.88731875176898...|       0.0|  0.0|[40.0,30.83653053...|\n",
      "|[0.93307321335658...|[2.63488438342251...|       0.0|  0.0|[41.0,26.6727633,...|\n",
      "|[0.85691842236418...|[1.78992778371378...|       0.0|  0.0|[46.0,22.21,86.0,...|\n",
      "|[0.99997653407411...|[10.6599376852201...|       0.0|  0.0|[48.0,31.25,199.0...|\n",
      "|[0.91015262711940...|[2.31549993370146...|       0.0|  0.0|[49.0,20.9566075,...|\n",
      "|[0.24186436295421...|[-1.1424852249613...|       1.0|  1.0|[51.0,27.68877813...|\n",
      "|[0.81001072991836...|[1.45007989708027...|       0.0|  0.0|[52.0,30.8012487,...|\n",
      "|[0.46628488877224...|[-0.1350654004007...|       1.0|  0.0|[54.0,36.05,119.0...|\n",
      "|[0.32568057249667...|[-0.7277868646469...|       1.0|  0.0|[62.0,26.84,100.0...|\n",
      "|[0.35652450920483...|[-0.5904809519545...|       1.0|  0.0|[66.0,26.5625,89....|\n",
      "|[0.12388179180257...|[-1.9561732036787...|       1.0|  1.0|[66.0,31.2385898,...|\n",
      "|[0.58027389134822...|[0.32389784224356...|       0.0|  1.0|[66.0,36.21227888...|\n",
      "|[0.15306733111219...|[-1.7107433006357...|       1.0|  1.0|[67.0,29.60676726...|\n",
      "|[0.55092374098452...|[0.20440368323156...|       0.0|  1.0|[68.0,21.36752137...|\n",
      "|[0.45395827248350...|[-0.1846901138596...|       1.0|  0.0|[68.0,35.56,131.0...|\n",
      "|[0.28184344965364...|[-0.9353358082588...|       1.0|  1.0|[71.0,30.3,102.0,...|\n",
      "+--------------------+--------------------+----------+-----+--------------------+\n",
      "only showing top 20 rows\n",
      "\n"
     ]
    }
   ],
   "source": [
    "# (9) Apply the Trained Logistic Regression Model to the Test DataFrame to make predictions\n",
    "test_logistic_regression_predictions_df = logistic_regression_model.transform(test_df)\n",
    "print(\"TEST DATASET PREDICTIONS AGAINST ACTUAL LABEL: \")\n",
    "test_logistic_regression_predictions_df.select(\"probability\", \"rawPrediction\", \"prediction\", label_column, \"features\").show()"
   ]
  },
  {
   "cell_type": "code",
   "execution_count": 10,
   "metadata": {},
   "outputs": [
    {
     "data": {
      "image/png": "[encoded data removed]",
      "text/plain": [
       "<Figure size 432x288 with 1 Axes>"
      ]
     },
     "metadata": {},
     "output_type": "display_data"
    },
    {
     "name": "stdout",
     "output_type": "stream",
     "text": [
      "Area Under ROC Curve on Test Data = 0.859375\n"
     ]
    }
   ],
   "source": [
    "# (10) Evaluate the performance of our Logistic Regression Model on the Test DataFrame using Area under a ROC curve\n",
    "test_summary = logistic_regression_model.evaluate(test_df)\n",
    "roc = test_summary.roc.toPandas()\n",
    "plt.plot(roc['FPR'],roc['TPR'])\n",
    "plt.ylabel('False Positive Rate')\n",
    "plt.xlabel('True Positive Rate')\n",
    "plt.title('ROC Curve')\n",
    "plt.show()\n",
    "evaluator_roc_area = BinaryClassificationEvaluator(rawPredictionCol = \"rawPrediction\", labelCol = label_column, metricName = \"areaUnderROC\")\n",
    "print(\"Area Under ROC Curve on Test Data = %g\" % evaluator_roc_area.evaluate(test_logistic_regression_predictions_df))"
   ]
  },
  {
   "cell_type": "code",
   "execution_count": 11,
   "metadata": {},
   "outputs": [
    {
     "name": "stdout",
     "output_type": "stream",
     "text": [
      "N = 28\n",
      "Overall Accuracy = 0.642857\n",
      "Overall Error Rate = 0.357143\n",
      "Sensitivity = 0.666667\n",
      "Specificity = 0.625\n"
     ]
    }
   ],
   "source": [
    "# (11) Generate a Confusion/Classification Matrix\n",
    "N = test_logistic_regression_predictions_df.count()\n",
    "true_positives = test_logistic_regression_predictions_df.filter( col(\"prediction\") == 1.0 ).filter( col(\"label\") == 1.0 ).count()\n",
    "true_negatives = test_logistic_regression_predictions_df.filter( col(\"prediction\") == 0.0 ).filter( col(\"label\") == 0.0 ).count()\n",
    "false_positives = test_logistic_regression_predictions_df.filter( col(\"prediction\") == 1.0 ).filter( col(\"label\") == 0.0 ).count()\n",
    "false_negatives = test_logistic_regression_predictions_df.filter( col(\"prediction\") == 0.0 ).filter( col(\"label\") == 1.0 ).count()\n",
    "print(\"N = %g\" % N)\n",
    "print(\"Overall Accuracy = %g\" % ((true_negatives + true_positives)/N))\n",
    "print(\"Overall Error Rate = %g\" % ((false_negatives + false_positives)/N))\n",
    "print(\"Sensitivity = %g\" % (true_positives / (true_positives + false_negatives)))\n",
    "print(\"Specificity = %g\" % (true_negatives / (true_negatives + false_positives)))"
   ]
  },
  {
   "cell_type": "code",
   "execution_count": 12,
   "metadata": {},
   "outputs": [
    {
     "name": "stdout",
     "output_type": "stream",
     "text": [
      "N = 28\n",
      "DenseMatrix([[10.,  6.],\n",
      "             [ 4.,  8.]])\n"
     ]
    }
   ],
   "source": [
    "# (12) Alternatively we can generate the same Classification Matrix using the MLLib RDD API (Maintenance Mode as of Spark 2.3.2)\n",
    "predictions_and_label = test_logistic_regression_predictions_df.select(\"prediction\", \"label\").rdd\n",
    "metrics = MulticlassMetrics(predictions_and_label)\n",
    "print(\"N = %g\" % N)\n",
    "print(metrics.confusionMatrix())"
   ]
  },
  {
   "cell_type": "code",
   "execution_count": 13,
   "metadata": {},
   "outputs": [],
   "source": [
    "# (13) Stop the Spark Context\n",
    "sc.stop()"
   ]
  }
 ],
 "metadata": {
  "kernelspec": {
   "display_name": "Python 3",
   "language": "python",
   "name": "python3"
  },
  "language_info": {
   "codemirror_mode": {
    "name": "ipython",
    "version": 3
   },
   "file_extension": ".py",
   "mimetype": "text/x-python",
   "name": "python",
   "nbconvert_exporter": "python",
   "pygments_lexer": "ipython3",
   "version": "3.6.5"
  }
 },
 "nbformat": 4,
 "nbformat_minor": 2
}
