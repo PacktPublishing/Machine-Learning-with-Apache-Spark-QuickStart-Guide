{
 "cells": [
  {
   "cell_type": "code",
   "execution_count": 40,
   "metadata": {},
   "outputs": [],
   "source": [
    "# (1) Import the required Python dependencies\n",
    "%matplotlib inline\n",
    "import matplotlib.pyplot as plt\n",
    "import pandas as pd\n",
    "import findspark\n",
    "findspark.init()\n",
    "from pyspark import SparkContext, SparkConf\n",
    "from pyspark.sql import SQLContext\n",
    "from pyspark.ml.feature import VectorAssembler\n",
    "from pyspark.ml.regression import LinearRegression\n",
    "from pyspark.ml.evaluation import RegressionEvaluator"
   ]
  },
  {
   "cell_type": "code",
   "execution_count": 41,
   "metadata": {},
   "outputs": [],
   "source": [
    "# (2) Instantiate a Spark Context\n",
    "conf = SparkConf().setMaster(\"spark://192.168.56.10:7077\").setAppName(\"Multivariate Linear Regression - Bike Sharing\")\n",
    "sc = SparkContext(conf=conf)\n",
    "sqlContext = SQLContext(sc)"
   ]
  },
  {
   "cell_type": "code",
   "execution_count": 42,
   "metadata": {},
   "outputs": [
    {
     "name": "stdout",
     "output_type": "stream",
     "text": [
      "+-------+-------------------+------+---+----+-------+-------+----------+----------+--------+--------+--------+---------+------+----------+----+\n",
      "|instant|             dteday|season| yr|mnth|holiday|weekday|workingday|weathersit|    temp|   atemp|     hum|windspeed|casual|registered| cnt|\n",
      "+-------+-------------------+------+---+----+-------+-------+----------+----------+--------+--------+--------+---------+------+----------+----+\n",
      "|      1|2011-01-01 00:00:00|     1|  0|   1|      0|      6|         0|         2|0.344167|0.363625|0.805833| 0.160446|   331|       654| 985|\n",
      "|      2|2011-01-02 00:00:00|     1|  0|   1|      0|      0|         0|         2|0.363478|0.353739|0.696087| 0.248539|   131|       670| 801|\n",
      "|      3|2011-01-03 00:00:00|     1|  0|   1|      0|      1|         1|         1|0.196364|0.189405|0.437273| 0.248309|   120|      1229|1349|\n",
      "|      4|2011-01-04 00:00:00|     1|  0|   1|      0|      2|         1|         1|     0.2|0.212122|0.590435| 0.160296|   108|      1454|1562|\n",
      "|      5|2011-01-05 00:00:00|     1|  0|   1|      0|      3|         1|         1|0.226957| 0.22927|0.436957|   0.1869|    82|      1518|1600|\n",
      "+-------+-------------------+------+---+----+-------+-------+----------+----------+--------+--------+--------+---------+------+----------+----+\n",
      "only showing top 5 rows\n",
      "\n"
     ]
    }
   ],
   "source": [
    "# (3) Load the Bike Sharing dataset into a Spark DataFrame\n",
    "bike_sharing_df = sqlContext.read.format('com.databricks.spark.csv').options(header = 'true', inferschema = 'true').load('/data/workspaces/jillur.quddus/jupyter/notebooks/Machine-Learning-with-Apache-Spark-QuickStart-Guide/chapter04/data/bike-sharing-data/day.csv')\n",
    "bike_sharing_df.show(5)"
   ]
  },
  {
   "cell_type": "code",
   "execution_count": 43,
   "metadata": {},
   "outputs": [
    {
     "name": "stdout",
     "output_type": "stream",
     "text": [
      "Correlation to CNT for  season 0.40610037079863526\n",
      "Correlation to CNT for  yr 0.5667097078680867\n",
      "Correlation to CNT for  mnth 0.2799771122192702\n",
      "Correlation to CNT for  holiday -0.06834771589248398\n",
      "Correlation to CNT for  weekday 0.06744341241063072\n",
      "Correlation to CNT for  workingday 0.06115606306052115\n",
      "Correlation to CNT for  weathersit -0.29739123883466345\n",
      "Correlation to CNT for  temp 0.6274940090334915\n",
      "Correlation to CNT for  atemp 0.6310656998491827\n",
      "Correlation to CNT for  hum -0.1006585621371548\n",
      "Correlation to CNT for  windspeed -0.2345449974216706\n",
      "Correlation to CNT for  cnt 1.0\n"
     ]
    }
   ],
   "source": [
    "# (4) Calculate the level of Correlation between the relevant Independent Variables and the Dependent Variable\n",
    "independent_variables = ['season', 'yr', 'mnth', 'holiday', 'weekday', 'workingday', 'weathersit', 'temp', 'atemp', 'hum', 'windspeed']\n",
    "dependent_variable = ['cnt']\n",
    "bike_sharing_df = bike_sharing_df.select( independent_variables + dependent_variable ) \n",
    "for i in bike_sharing_df.columns:\n",
    "        print( \"Correlation to CNT for \", i, bike_sharing_df.stat.corr('cnt', i))"
   ]
  },
  {
   "cell_type": "code",
   "execution_count": 44,
   "metadata": {},
   "outputs": [
    {
     "data": {
      "text/plain": [
       "[Row(features=DenseVector([1.0, 0.0, 1.0, 0.3442, 0.3636]), cnt=985),\n",
       " Row(features=DenseVector([1.0, 0.0, 1.0, 0.3635, 0.3537]), cnt=801),\n",
       " Row(features=DenseVector([1.0, 0.0, 1.0, 0.1964, 0.1894]), cnt=1349),\n",
       " Row(features=DenseVector([1.0, 0.0, 1.0, 0.2, 0.2121]), cnt=1562),\n",
       " Row(features=DenseVector([1.0, 0.0, 1.0, 0.227, 0.2293]), cnt=1600),\n",
       " Row(features=DenseVector([1.0, 0.0, 1.0, 0.2043, 0.2332]), cnt=1606),\n",
       " Row(features=DenseVector([1.0, 0.0, 1.0, 0.1965, 0.2088]), cnt=1510),\n",
       " Row(features=DenseVector([1.0, 0.0, 1.0, 0.165, 0.1623]), cnt=959),\n",
       " Row(features=DenseVector([1.0, 0.0, 1.0, 0.1383, 0.1162]), cnt=822),\n",
       " Row(features=DenseVector([1.0, 0.0, 1.0, 0.1508, 0.1509]), cnt=1321)]"
      ]
     },
     "execution_count": 44,
     "metadata": {},
     "output_type": "execute_result"
    }
   ],
   "source": [
    "# (5) Generate Input Feature Vectors from the Raw Spark DataFrame\n",
    "multivariate_feature_columns = ['season', 'yr', 'mnth', 'temp', 'atemp']\n",
    "multivariate_label_column = 'cnt'\n",
    "vector_assembler = VectorAssembler(inputCols = multivariate_feature_columns, outputCol = 'features')\n",
    "bike_sharing_features_df = vector_assembler.transform(bike_sharing_df).select(['features', multivariate_label_column])\n",
    "bike_sharing_features_df.head(10)"
   ]
  },
  {
   "cell_type": "code",
   "execution_count": 45,
   "metadata": {},
   "outputs": [
    {
     "data": {
      "text/plain": [
       "(534, 197)"
      ]
     },
     "execution_count": 45,
     "metadata": {},
     "output_type": "execute_result"
    }
   ],
   "source": [
    "# (6) Split the Raw DataFrame into a Training DataFrame and a Test DataFrame\n",
    "train_df, test_df = bike_sharing_features_df.randomSplit([0.75, 0.25], seed=12345)\n",
    "train_df.count(), test_df.count()"
   ]
  },
  {
   "cell_type": "code",
   "execution_count": 46,
   "metadata": {},
   "outputs": [],
   "source": [
    "# (7) Train a Multivariate Linear Regression Model on the Training DataFrame\n",
    "linear_regression = LinearRegression(featuresCol = 'features', labelCol = multivariate_label_column)\n",
    "linear_regression_model = linear_regression.fit(train_df)"
   ]
  },
  {
   "cell_type": "code",
   "execution_count": 47,
   "metadata": {},
   "outputs": [
    {
     "name": "stdout",
     "output_type": "stream",
     "text": [
      "Model Coefficients: [526.0540180009755,2058.847493710504,-51.89760751842719,2408.656105373764,3502.937182145296]\n",
      "Intercept: -389.93775612437224\n",
      "RMSE: 1008.497716\n",
      "R-SQUARED: 0.731432\n",
      "TRAINING DATASET DESCRIPTIVE SUMMARY: \n",
      "+-------+------------------+\n",
      "|summary|               cnt|\n",
      "+-------+------------------+\n",
      "|  count|               534|\n",
      "|   mean| 4420.209737827716|\n",
      "| stddev|1947.8454814788004|\n",
      "|    min|                22|\n",
      "|    max|              8714|\n",
      "+-------+------------------+\n",
      "\n",
      "TRAINING DATASET RESIDUALS: \n",
      "+-------------------+\n",
      "|          residuals|\n",
      "+-------------------+\n",
      "|  477.3807048512753|\n",
      "|   323.066605195992|\n",
      "|  684.0978143961413|\n",
      "| -2.369006518574679|\n",
      "|  289.3019346708047|\n",
      "| 395.81941740152433|\n",
      "|  99.61456409852781|\n",
      "|-126.95759195936716|\n",
      "|  478.3658026684425|\n",
      "|  328.7947859642086|\n",
      "| -892.5018938233816|\n",
      "|  128.3341811819805|\n",
      "|-189.59260407255988|\n",
      "| 212.66081050998378|\n",
      "| -386.6079329148888|\n",
      "| -736.9428510805565|\n",
      "|  -815.299367561752|\n",
      "|  540.9698509452983|\n",
      "| 166.00157418405865|\n",
      "| -258.6722263123245|\n",
      "+-------------------+\n",
      "only showing top 20 rows\n",
      "\n"
     ]
    }
   ],
   "source": [
    "# (8) Output Multivariate Linear Regression Model Summary Statistics to evaluate the Training Model\n",
    "print(\"Model Coefficients: \" + str(linear_regression_model.coefficients))\n",
    "print(\"Intercept: \" + str(linear_regression_model.intercept))\n",
    "training_summary = linear_regression_model.summary\n",
    "print(\"RMSE: %f\" % training_summary.rootMeanSquaredError)\n",
    "print(\"R-SQUARED: %f\" % training_summary.r2)\n",
    "print(\"TRAINING DATASET DESCRIPTIVE SUMMARY: \")\n",
    "train_df.describe().show()\n",
    "print(\"TRAINING DATASET RESIDUALS: \")\n",
    "training_summary.residuals.show()"
   ]
  },
  {
   "cell_type": "code",
   "execution_count": 48,
   "metadata": {},
   "outputs": [
    {
     "name": "stdout",
     "output_type": "stream",
     "text": [
      "TEST DATASET PREDICTIONS AGAINST ACTUAL LABEL: \n",
      "+------------------+----+--------------------+\n",
      "|        prediction| cnt|            features|\n",
      "+------------------+----+--------------------+\n",
      "| 976.0746662395563|1321|[1.0,0.0,1.0,0.15...|\n",
      "|  1050.01248129665| 959|[1.0,0.0,1.0,0.16...|\n",
      "| 1162.187088514198|1263|[1.0,0.0,1.0,0.16...|\n",
      "|1289.1224676804804|1510|[1.0,0.0,1.0,0.19...|\n",
      "| 1300.636622198192|1098|[1.0,0.0,1.0,0.19...|\n",
      "|1308.9999163839534|1562|[1.0,0.0,1.0,0.2,...|\n",
      "|1235.6848532836393|1746|[1.0,0.0,2.0,0.18...|\n",
      "|1384.2702586148866|1472|[1.0,0.0,2.0,0.22...|\n",
      "|1549.7784033067871|1526|[1.0,0.0,2.0,0.26...|\n",
      "| 1906.531084586451|2115|[1.0,0.0,2.0,0.31...|\n",
      "+------------------+----+--------------------+\n",
      "only showing top 10 rows\n",
      "\n"
     ]
    }
   ],
   "source": [
    "# (9) Apply the Trained Multivariate Linear Regression Model to the Test DataFrame to make predictions\n",
    "test_linear_regression_predictions_df = linear_regression_model.transform(test_df)\n",
    "print(\"TEST DATASET PREDICTIONS AGAINST ACTUAL LABEL: \")\n",
    "test_linear_regression_predictions_df.select(\"prediction\", multivariate_label_column, \"features\").show(10)"
   ]
  },
  {
   "cell_type": "code",
   "execution_count": 49,
   "metadata": {},
   "outputs": [
    {
     "name": "stdout",
     "output_type": "stream",
     "text": [
      "RMSE on Test Data = 964.597\n",
      "R-SQUARED on Test Data = 0.739356\n"
     ]
    }
   ],
   "source": [
    "# (10) Evaluate the performance of our Linear Regression Model on the Test DataFrame\n",
    "test_summary = linear_regression_model.evaluate(test_df)\n",
    "print(\"RMSE on Test Data = %g\" % test_summary.rootMeanSquaredError)\n",
    "print(\"R-SQUARED on Test Data = %g\" % test_summary.r2)"
   ]
  },
  {
   "cell_type": "code",
   "execution_count": 50,
   "metadata": {},
   "outputs": [],
   "source": [
    "# (11) Stop the Spark Context\n",
    "sc.stop()"
   ]
  }
 ],
 "metadata": {
  "kernelspec": {
   "display_name": "Python 3",
   "language": "python",
   "name": "python3"
  },
  "language_info": {
   "codemirror_mode": {
    "name": "ipython",
    "version": 3
   },
   "file_extension": ".py",
   "mimetype": "text/x-python",
   "name": "python",
   "nbconvert_exporter": "python",
   "pygments_lexer": "ipython3",
   "version": "3.6.5"
  }
 },
 "nbformat": 4,
 "nbformat_minor": 2
}
